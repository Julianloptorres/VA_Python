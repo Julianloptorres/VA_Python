{
 "cells": [
  {
   "cell_type": "code",
   "execution_count": 2,
   "metadata": {},
   "outputs": [],
   "source": [
    "import pyttsx3;\n",
    "import speech_recognition as sr;\n",
    "import webbrowser;\n",
    "import datetime;\n",
    "import pywhatkit;\n",
    "import os;\n",
    "import yfinance as yf;\n",
    "import pyjokes; \n",
    "import wikipedia;"
   ]
  },
  {
   "cell_type": "code",
   "execution_count": 3,
   "metadata": {},
   "outputs": [],
   "source": [
    "#Listen to our voice and return audio as a text using google.\n",
    "\n",
    "def transform():\n",
    "    r = sr.Recognizer()\n",
    "    with sr.Microphone() as mi_voz:\n",
    "        r.pause_threshold = 0.8\n",
    "        said = r.listen(mi_voz)\n",
    "        try: \n",
    "            print('I am listening')\n",
    "            q = r.recognize_google(said,language=\"en\")\n",
    "            return q\n",
    "        except sr.UnknownValueError:\n",
    "            print('Sorry I did not get it')\n",
    "            return 'I am waiting'\n",
    "        except sr.RequestError:\n",
    "            print('Sorry the service is down')\n",
    "            return 'I am waiting'\n",
    "        except:\n",
    "            return \"I am waiting\""
   ]
  },
  {
   "cell_type": "code",
   "execution_count": 28,
   "metadata": {},
   "outputs": [
    {
     "name": "stdout",
     "output_type": "stream",
     "text": [
      "I am listening\n",
      "result2:\n",
      "[]\n",
      "Sorry I did not get it\n"
     ]
    }
   ],
   "source": [
    "transform();"
   ]
  },
  {
   "cell_type": "code",
   "execution_count": 6,
   "metadata": {},
   "outputs": [],
   "source": [
    "#speaks the message as an audio\n",
    "def speaking(message):\n",
    "    engine = pyttsx3.init()\n",
    "    engine.say(message)\n",
    "    engine.runAndWait()\n",
    "\n",
    "speaking('Hello ana. How are you doing?');\n"
   ]
  },
  {
   "cell_type": "code",
   "execution_count": 7,
   "metadata": {},
   "outputs": [
    {
     "name": "stdout",
     "output_type": "stream",
     "text": [
      "<Voice id=HKEY_LOCAL_MACHINE\\SOFTWARE\\Microsoft\\Speech\\Voices\\Tokens\\TTS_MS_EN-US_DAVID_11.0\n",
      "          name=Microsoft David Desktop - English (United States)\n",
      "          languages=[]\n",
      "          gender=None\n",
      "          age=None>\n",
      "<Voice id=HKEY_LOCAL_MACHINE\\SOFTWARE\\Microsoft\\Speech\\Voices\\Tokens\\TTS_MS_EN-US_ZIRA_11.0\n",
      "          name=Microsoft Zira Desktop - English (United States)\n",
      "          languages=[]\n",
      "          gender=None\n",
      "          age=None>\n"
     ]
    }
   ],
   "source": [
    "#install language from the computer\n",
    "engine = pyttsx3.init()\n",
    "for voice in engine.getProperty('voices'):\n",
    "    print(voice)"
   ]
  },
  {
   "cell_type": "code",
   "execution_count": 8,
   "metadata": {},
   "outputs": [],
   "source": [
    "#use an specific \"person\" for reading\n",
    "id = 'HKEY_LOCAL_MACHINE\\SOFTWARE\\Microsoft\\Speech\\Voices\\Tokens\\TTS_MS_EN-US_ZIRA_11.0'\n",
    "engine.setProperty('voice',id)\n",
    "engine.say(\"hello, ana. How are you?\")\n",
    "engine.runAndWait()"
   ]
  },
  {
   "cell_type": "code",
   "execution_count": 10,
   "metadata": {},
   "outputs": [],
   "source": [
    "#return the weekday name\n",
    "def query_day():\n",
    "    day = datetime.date.today()\n",
    "    print(day)\n",
    "    weekday = day.weekday()\n",
    "    print(weekday)\n",
    "    mapping = {\n",
    "        0: 'Monday',\n",
    "        1: 'Tuesday',\n",
    "        2: 'Wednesday',\n",
    "        3: 'thursday',\n",
    "        4: 'Friday',\n",
    "        5: 'Saturday',\n",
    "        6: 'Sunday',\n",
    "    }\n",
    "    try: \n",
    "        speaking(f' Today is {mapping[weekday]}')\n",
    "    except:\n",
    "        pass"
   ]
  },
  {
   "cell_type": "code",
   "execution_count": 12,
   "metadata": {},
   "outputs": [
    {
     "name": "stdout",
     "output_type": "stream",
     "text": [
      "2022-12-27\n",
      "1\n"
     ]
    }
   ],
   "source": [
    "query_day()"
   ]
  },
  {
   "cell_type": "code",
   "execution_count": 13,
   "metadata": {},
   "outputs": [],
   "source": [
    "#returns the time\n",
    "def query_time():\n",
    "    time = datetime.datetime.now().strftime(\"%I:%M:%S\")\n",
    "    speaking(f\"{time[1]}o'clock and {time[2:4]} minutes\")"
   ]
  },
  {
   "cell_type": "code",
   "execution_count": 25,
   "metadata": {},
   "outputs": [],
   "source": [
    "query_time()"
   ]
  },
  {
   "cell_type": "code",
   "execution_count": 16,
   "metadata": {},
   "outputs": [],
   "source": [
    "#greetings starting up\n",
    "def whatsup():\n",
    "    speaking('''Hi, my name is Ana: I am your personalassistant. What can I do for you?\n",
    "    ''')"
   ]
  },
  {
   "cell_type": "code",
   "execution_count": 17,
   "metadata": {},
   "outputs": [],
   "source": [
    "whatsup()"
   ]
  },
  {
   "cell_type": "code",
   "execution_count": 29,
   "metadata": {},
   "outputs": [],
   "source": [
    "#The heart of the assistant. It takes queries and returns answers.\n",
    "def querying():\n",
    "    whatsup()\n",
    "    start = True\n",
    "    while(start):\n",
    "        q = transform().lower()\n",
    "\n",
    "        if 'start yourtube' in q:\n",
    "            speaking('starting youtube. just a second')\n",
    "            webbrowser.open('http://www.youtube.com')\n",
    "            continue\n",
    "        elif 'start web' in q:\n",
    "            speaking('opening browser')\n",
    "            webbrowser.open('https://www.google.com')\n",
    "            continue\n",
    "        elif 'what day is it' in q:\n",
    "            query_day()\n",
    "            continue\n",
    "        elif 'What time is it' in q:\n",
    "            query_time()\n",
    "            continue\n",
    "        elif \"stop\" in q:\n",
    "            speaking('I am shutting down')\n",
    "            break\n",
    "        elif \"from wikipedia\" in q:\n",
    "            speaking('checking wikipedia')\n",
    "            q = q.replace(\"widipedia\",\"\")\n",
    "            result = wikipedia.summary(q, sentences=2)\n",
    "            speaking('found on wikipedia')\n",
    "            speaking(result)\n",
    "            continue\n",
    "\n",
    "        elif \"your name\" in q:\n",
    "            speaking('I am Ana. Your VA')\n",
    "            continue\n",
    "\n",
    "        elif \"search web\" in q:\n",
    "            pywhatkit.search(q)\n",
    "            speaking('that is what I found')\n",
    "            continue\n",
    "\n",
    "        elif \"play\" in q:\n",
    "            speaking(f'playing{q}')\n",
    "            pywhatkit.playonyt(q)\n",
    "            continue\n",
    "\n",
    "        elif \"joke\" in q:\n",
    "            speaking(pyjokes.get_joke())\n",
    "            continue\n",
    "\n",
    "        elif(\"stock price\" in q):\n",
    "            search = q.split(\"of\")[-1].strip()\n",
    "            lookup= {'apple': 'AAPL',\n",
    "                    'amazon': 'AMZN',\n",
    "                    'google': \"GOOGL\"}\n",
    "            try:\n",
    "                stock = lookup[search]\n",
    "                stock = yf.Ticker(stock)\n",
    "                currentprice = stock.info[\"regularMarketPrice\"]\n",
    "                speaking(f'found it, the price for {search} is {currentprice}')\n",
    "                continue\n",
    "            except:\n",
    "                speaking(f'Sorry I have no data for {search}')\n",
    "            continue\n",
    "          \n"
   ]
  },
  {
   "cell_type": "code",
   "execution_count": 30,
   "metadata": {},
   "outputs": [
    {
     "name": "stdout",
     "output_type": "stream",
     "text": [
      "I am listening\n",
      "result2:\n",
      "{   'alternative': [{'confidence': 0.98762906, 'transcript': 'joke'}],\n",
      "    'final': True}\n",
      "I am listening\n",
      "result2:\n",
      "{   'alternative': [{'confidence': 0.98762906, 'transcript': 'play play'}],\n",
      "    'final': True}\n",
      "I am listening\n",
      "result2:\n",
      "{   'alternative': [   {'confidence': 0.81746131, 'transcript': 'Hallelujah'},\n",
      "                       {'transcript': 'Hallelujah lyrics'},\n",
      "                       {'transcript': 'Alleluia'},\n",
      "                       {'transcript': 'I love you'}],\n",
      "    'final': True}\n",
      "I am listening\n",
      "result2:\n",
      "{   'alternative': [   {   'confidence': 0.98762906,\n",
      "                           'transcript': 'Wikipedia Wikipedia Santiago de '\n",
      "                                         'Cali'}],\n",
      "    'final': True}\n",
      "I am listening\n",
      "result2:\n",
      "[]\n",
      "Sorry I did not get it\n",
      "I am listening\n",
      "result2:\n",
      "{   'alternative': [   {   'confidence': 0.67641306,\n",
      "                           'transcript': 'search web San Diego County'},\n",
      "                       {'transcript': 'search web Santiago de Cali'},\n",
      "                       {'transcript': 'search web San Diego near Kearny'},\n",
      "                       {'transcript': 'search web San Diego Kearny'},\n",
      "                       {'transcript': 'search web San Diego Academy'}],\n",
      "    'final': True}\n",
      "I am listening\n",
      "result2:\n",
      "{   'alternative': [{'confidence': 0.98762906, 'transcript': 'your name'}],\n",
      "    'final': True}\n",
      "I am listening\n",
      "result2:\n",
      "{   'alternative': [   {'confidence': 0.65354085, 'transcript': 'stop'},\n",
      "                       {'transcript': 'cream.'},\n",
      "                       {'transcript': 'stopped'}],\n",
      "    'final': True}\n"
     ]
    }
   ],
   "source": [
    "querying()"
   ]
  }
 ],
 "metadata": {
  "kernelspec": {
   "display_name": "Python 3.10.9 64-bit (microsoft store)",
   "language": "python",
   "name": "python3"
  },
  "language_info": {
   "codemirror_mode": {
    "name": "ipython",
    "version": 3
   },
   "file_extension": ".py",
   "mimetype": "text/x-python",
   "name": "python",
   "nbconvert_exporter": "python",
   "pygments_lexer": "ipython3",
   "version": "3.10.9"
  },
  "orig_nbformat": 4,
  "vscode": {
   "interpreter": {
    "hash": "a166e61b3f1e7b9ccc9f59f78d7cc3087a9ccbb0b1a7cff444b301613a633a54"
   }
  }
 },
 "nbformat": 4,
 "nbformat_minor": 2
}
